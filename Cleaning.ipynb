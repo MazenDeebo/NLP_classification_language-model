{
 "cells": [
  {
   "cell_type": "code",
   "execution_count": 2,
   "metadata": {},
   "outputs": [],
   "source": [
    "import pandas as pd # to work on data frames and can handle any outlier or noise records in datasets\n",
    "import numpy as np # to get algebratic opertaion on data\n",
    "import matplotlib.pyplot as plt # to visualize data and cleaning ( i do it to show outputs of my cleaning (my point of veiw)) \n",
    "import seaborn as sns\n",
    "\n",
    "import re # this library work on regular expressions for pattern matching and string manipulation i search alot on it i understand this only\n",
    "import string # this library has ASCII letters, digits, punctuation, and whitespace i use it to get (punctuation) to remove it from data\n",
    "import nltk # library we use to preprocess on text data to make it clean and in standerd form to use it in NLP\n",
    "from nltk.corpus import stopwords # this module we use to remove stopwords\n",
    "from nltk.tokenize import word_tokenize # this module we use it to tokanise text into words\n",
    "from nltk.stem import WordNetLemmatizer # this lemmatizedr get base of each word to make words in his base ( if verb , noun , adverb or adgectives)"
   ]
  },
  {
   "cell_type": "code",
   "execution_count": 2,
   "metadata": {},
   "outputs": [],
   "source": [
    "# we read our csv file using pd.read_csv\n",
    "data = pd.read_csv(r\"D:\\FCDS\\semster 7\\NLP\\Assginments\\Assginment 2\\text classification\\IMDB Dataset.csv\")"
   ]
  },
  {
   "cell_type": "code",
   "execution_count": 3,
   "metadata": {},
   "outputs": [
    {
     "data": {
      "text/html": [
       "<div>\n",
       "<style scoped>\n",
       "    .dataframe tbody tr th:only-of-type {\n",
       "        vertical-align: middle;\n",
       "    }\n",
       "\n",
       "    .dataframe tbody tr th {\n",
       "        vertical-align: top;\n",
       "    }\n",
       "\n",
       "    .dataframe thead th {\n",
       "        text-align: right;\n",
       "    }\n",
       "</style>\n",
       "<table border=\"1\" class=\"dataframe\">\n",
       "  <thead>\n",
       "    <tr style=\"text-align: right;\">\n",
       "      <th></th>\n",
       "      <th>review</th>\n",
       "      <th>sentiment</th>\n",
       "    </tr>\n",
       "  </thead>\n",
       "  <tbody>\n",
       "    <tr>\n",
       "      <th>0</th>\n",
       "      <td>One of the other reviewers has mentioned that ...</td>\n",
       "      <td>positive</td>\n",
       "    </tr>\n",
       "    <tr>\n",
       "      <th>1</th>\n",
       "      <td>A wonderful little production. &lt;br /&gt;&lt;br /&gt;The...</td>\n",
       "      <td>positive</td>\n",
       "    </tr>\n",
       "    <tr>\n",
       "      <th>2</th>\n",
       "      <td>I thought this was a wonderful way to spend ti...</td>\n",
       "      <td>positive</td>\n",
       "    </tr>\n",
       "    <tr>\n",
       "      <th>3</th>\n",
       "      <td>Basically there's a family where a little boy ...</td>\n",
       "      <td>negative</td>\n",
       "    </tr>\n",
       "    <tr>\n",
       "      <th>4</th>\n",
       "      <td>Petter Mattei's \"Love in the Time of Money\" is...</td>\n",
       "      <td>positive</td>\n",
       "    </tr>\n",
       "    <tr>\n",
       "      <th>5</th>\n",
       "      <td>Probably my all-time favorite movie, a story o...</td>\n",
       "      <td>positive</td>\n",
       "    </tr>\n",
       "    <tr>\n",
       "      <th>6</th>\n",
       "      <td>I sure would like to see a resurrection of a u...</td>\n",
       "      <td>positive</td>\n",
       "    </tr>\n",
       "    <tr>\n",
       "      <th>7</th>\n",
       "      <td>This show was an amazing, fresh &amp; innovative i...</td>\n",
       "      <td>negative</td>\n",
       "    </tr>\n",
       "    <tr>\n",
       "      <th>8</th>\n",
       "      <td>Encouraged by the positive comments about this...</td>\n",
       "      <td>negative</td>\n",
       "    </tr>\n",
       "    <tr>\n",
       "      <th>9</th>\n",
       "      <td>If you like original gut wrenching laughter yo...</td>\n",
       "      <td>positive</td>\n",
       "    </tr>\n",
       "  </tbody>\n",
       "</table>\n",
       "</div>"
      ],
      "text/plain": [
       "                                              review sentiment\n",
       "0  One of the other reviewers has mentioned that ...  positive\n",
       "1  A wonderful little production. <br /><br />The...  positive\n",
       "2  I thought this was a wonderful way to spend ti...  positive\n",
       "3  Basically there's a family where a little boy ...  negative\n",
       "4  Petter Mattei's \"Love in the Time of Money\" is...  positive\n",
       "5  Probably my all-time favorite movie, a story o...  positive\n",
       "6  I sure would like to see a resurrection of a u...  positive\n",
       "7  This show was an amazing, fresh & innovative i...  negative\n",
       "8  Encouraged by the positive comments about this...  negative\n",
       "9  If you like original gut wrenching laughter yo...  positive"
      ]
     },
     "execution_count": 3,
     "metadata": {},
     "output_type": "execute_result"
    }
   ],
   "source": [
    "# to show our records and columns and what this data contain.\n",
    "data.head(10)"
   ]
  },
  {
   "cell_type": "code",
   "execution_count": 4,
   "metadata": {},
   "outputs": [
    {
     "name": "stdout",
     "output_type": "stream",
     "text": [
      "<class 'pandas.core.frame.DataFrame'>\n",
      "RangeIndex: 50000 entries, 0 to 49999\n",
      "Data columns (total 2 columns):\n",
      " #   Column     Non-Null Count  Dtype \n",
      "---  ------     --------------  ----- \n",
      " 0   review     50000 non-null  object\n",
      " 1   sentiment  50000 non-null  object\n",
      "dtypes: object(2)\n",
      "memory usage: 781.4+ KB\n"
     ]
    }
   ],
   "source": [
    "# to know number of records , null values in dataset and datatype of each attribute\n",
    "data.info()"
   ]
  },
  {
   "cell_type": "code",
   "execution_count": 5,
   "metadata": {},
   "outputs": [
    {
     "data": {
      "text/html": [
       "<div>\n",
       "<style scoped>\n",
       "    .dataframe tbody tr th:only-of-type {\n",
       "        vertical-align: middle;\n",
       "    }\n",
       "\n",
       "    .dataframe tbody tr th {\n",
       "        vertical-align: top;\n",
       "    }\n",
       "\n",
       "    .dataframe thead th {\n",
       "        text-align: right;\n",
       "    }\n",
       "</style>\n",
       "<table border=\"1\" class=\"dataframe\">\n",
       "  <thead>\n",
       "    <tr style=\"text-align: right;\">\n",
       "      <th></th>\n",
       "      <th>review</th>\n",
       "      <th>sentiment</th>\n",
       "    </tr>\n",
       "  </thead>\n",
       "  <tbody>\n",
       "    <tr>\n",
       "      <th>count</th>\n",
       "      <td>50000</td>\n",
       "      <td>50000</td>\n",
       "    </tr>\n",
       "    <tr>\n",
       "      <th>unique</th>\n",
       "      <td>49582</td>\n",
       "      <td>2</td>\n",
       "    </tr>\n",
       "    <tr>\n",
       "      <th>top</th>\n",
       "      <td>Loved today's show!!! It was a variety and not...</td>\n",
       "      <td>positive</td>\n",
       "    </tr>\n",
       "    <tr>\n",
       "      <th>freq</th>\n",
       "      <td>5</td>\n",
       "      <td>25000</td>\n",
       "    </tr>\n",
       "  </tbody>\n",
       "</table>\n",
       "</div>"
      ],
      "text/plain": [
       "                                                   review sentiment\n",
       "count                                               50000     50000\n",
       "unique                                              49582         2\n",
       "top     Loved today's show!!! It was a variety and not...  positive\n",
       "freq                                                    5     25000"
      ]
     },
     "execution_count": 5,
     "metadata": {},
     "output_type": "execute_result"
    }
   ],
   "source": [
    "#to describe statstical informations about all numeric attributes\n",
    "data.describe()"
   ]
  },
  {
   "cell_type": "code",
   "execution_count": 6,
   "metadata": {},
   "outputs": [],
   "source": [
    "data.drop_duplicates(inplace=True)"
   ]
  },
  {
   "cell_type": "code",
   "execution_count": 7,
   "metadata": {},
   "outputs": [
    {
     "data": {
      "text/plain": [
       "review       0\n",
       "sentiment    0\n",
       "dtype: int64"
      ]
     },
     "execution_count": 7,
     "metadata": {},
     "output_type": "execute_result"
    }
   ],
   "source": [
    "#to know number of null values for all records in each column from our dataset\n",
    "data.isnull().sum()"
   ]
  },
  {
   "cell_type": "markdown",
   "metadata": {},
   "source": [
    "## **preprocessing on text column** "
   ]
  },
  {
   "cell_type": "code",
   "execution_count": 8,
   "metadata": {},
   "outputs": [
    {
     "name": "stderr",
     "output_type": "stream",
     "text": [
      "[nltk_data] Downloading package stopwords to\n",
      "[nltk_data]     C:\\Users\\mazen\\AppData\\Roaming\\nltk_data...\n",
      "[nltk_data]   Package stopwords is already up-to-date!\n",
      "[nltk_data] Downloading package punkt to\n",
      "[nltk_data]     C:\\Users\\mazen\\AppData\\Roaming\\nltk_data...\n",
      "[nltk_data]   Package punkt is already up-to-date!\n",
      "[nltk_data] Downloading package wordnet to\n",
      "[nltk_data]     C:\\Users\\mazen\\AppData\\Roaming\\nltk_data...\n",
      "[nltk_data]   Package wordnet is already up-to-date!\n"
     ]
    },
    {
     "data": {
      "text/plain": [
       "True"
      ]
     },
     "execution_count": 8,
     "metadata": {},
     "output_type": "execute_result"
    }
   ],
   "source": [
    "# first we will download all necessary recourses to use ntlk\n",
    "# for stopwords and punctuations and wordnet of english language\n",
    "nltk.download('stopwords')\n",
    "nltk.download('punkt')\n",
    "nltk.download('wordnet')"
   ]
  },
  {
   "cell_type": "code",
   "execution_count": 9,
   "metadata": {},
   "outputs": [],
   "source": [
    "def cleaninig(text):\n",
    "    # 1) Convert all charcters in lowercase to make all words in standerd form\n",
    "    # we save it in cleaned text\n",
    "    cleaned_text = text.lower()\n",
    "    \n",
    "    # 2) remove urls \n",
    "    # Define a regex pattern to match URLs (i study regex patterns from datacamp)(course intro_NLP)\n",
    "    url_pattern = re.compile(r'https?://\\S+|www\\.\\S+')\n",
    "    # Replace URLs with an empty string \n",
    "    # with this way we remove URLs from our comments\n",
    "    cleaned_text = url_pattern.sub('', cleaned_text)\n",
    "    \n",
    "    # 3) remove special charcters\n",
    "    # Define a regex pattern to match non-alphanumeric characters and spaces\n",
    "    special_char_pattern = re.compile(r'[^a-zA-Z\\s]')\n",
    "    # Replace special characters with an empty string\n",
    "    # with this way we remove special characters from our comments\n",
    "    cleaned_text = special_char_pattern.sub('', cleaned_text)\n",
    "    \n",
    "    # 4) remove punctuations\n",
    "    # Define a regex pattern to match punctuation characters\n",
    "    # we use library string to get all punctation marks \n",
    "    punctuation_pattern = re.compile(f\"[{re.escape(string.punctuation)}]\")\n",
    "    # Remove punctuation using the regex pattern\n",
    "    cleaned_text =  punctuation_pattern.sub('', cleaned_text)\n",
    "    \n",
    "    # 5) tokanization\n",
    "    # split text in words\n",
    "    # using built-function word_tokenize(text)\n",
    "    # return splitted words\n",
    "    tokens = word_tokenize(cleaned_text)\n",
    "    \n",
    "    # 6) remove stopwords\n",
    "    #we save stopwords of english language in varibale called stop_words\n",
    "    #stopwords.words('') take parameter (language you want to get stopwords of it)\n",
    "    stop_words = set(stopwords.words('english'))\n",
    "    # we will save each token without stopwords in each record \n",
    "    # and will save it in cleaned_tokens\n",
    "    cleaned_tokens = [word for word in tokens if word not in stop_words]\n",
    "    \n",
    "    # 7) get base of words using (lemmatization)\n",
    "    #take object from WordNetLemmatizer() to get base of each token(word)\n",
    "    lemmatizer = WordNetLemmatizer()\n",
    "    #apply lwmatization on each token on all nouns\n",
    "    lemmatized_tokens = [lemmatizer.lemmatize(word,pos='n') for word in cleaned_tokens]\n",
    "    #apply lwmatization on each lemmatized_tokens on all verbs\n",
    "    lemmatized_tokens = [lemmatizer.lemmatize(word,pos='v') for word in lemmatized_tokens]\n",
    "    #apply lwmatization on each lemmatized_tokens on all adverbs\n",
    "    lemmatized_tokens = [lemmatizer.lemmatize(word,pos='r') for word in lemmatized_tokens]\n",
    "    #apply lwmatization on each lemmatized_tokens on all adjectivs\n",
    "    lemmatized_tokens = [lemmatizer.lemmatize(word,pos='a') for word in lemmatized_tokens]\n",
    "    #return cummulative lemmatized_tokens (words)\n",
    "    lemmatized_sentences = ' '.join(lemmatized_tokens)\n",
    "    \n",
    "    return lemmatized_sentences"
   ]
  },
  {
   "cell_type": "code",
   "execution_count": 10,
   "metadata": {},
   "outputs": [],
   "source": [
    "# apply cleaning function on comment_text\n",
    "data['cleaned_review'] = data['review'].apply(cleaninig)"
   ]
  },
  {
   "cell_type": "code",
   "execution_count": 11,
   "metadata": {},
   "outputs": [
    {
     "data": {
      "text/plain": [
       "<Axes: ylabel='count'>"
      ]
     },
     "execution_count": 11,
     "metadata": {},
     "output_type": "execute_result"
    },
    {
     "data": {
      "image/png": "[encoded data removed]",
      "text/plain": [
       "<Figure size 640x480 with 1 Axes>"
      ]
     },
     "metadata": {},
     "output_type": "display_data"
    }
   ],
   "source": [
    "data.sentiment.value_counts().plot(kind='pie' ,color = 'b')"
   ]
  },
  {
   "cell_type": "code",
   "execution_count": 12,
   "metadata": {},
   "outputs": [],
   "source": [
    "# Convert sentiment column to binary values\n",
    "data['encoded_sentiment'] = data['sentiment'].apply(lambda x: 1 if x == 'positive' else 0)"
   ]
  },
  {
   "cell_type": "code",
   "execution_count": 13,
   "metadata": {},
   "outputs": [
    {
     "data": {
      "text/html": [
       "<div>\n",
       "<style scoped>\n",
       "    .dataframe tbody tr th:only-of-type {\n",
       "        vertical-align: middle;\n",
       "    }\n",
       "\n",
       "    .dataframe tbody tr th {\n",
       "        vertical-align: top;\n",
       "    }\n",
       "\n",
       "    .dataframe thead th {\n",
       "        text-align: right;\n",
       "    }\n",
       "</style>\n",
       "<table border=\"1\" class=\"dataframe\">\n",
       "  <thead>\n",
       "    <tr style=\"text-align: right;\">\n",
       "      <th></th>\n",
       "      <th>review</th>\n",
       "      <th>sentiment</th>\n",
       "      <th>cleaned_review</th>\n",
       "      <th>encoded_sentiment</th>\n",
       "    </tr>\n",
       "  </thead>\n",
       "  <tbody>\n",
       "    <tr>\n",
       "      <th>0</th>\n",
       "      <td>One of the other reviewers has mentioned that ...</td>\n",
       "      <td>positive</td>\n",
       "      <td>one reviewer mention watch oz episode youll ho...</td>\n",
       "      <td>1</td>\n",
       "    </tr>\n",
       "    <tr>\n",
       "      <th>1</th>\n",
       "      <td>A wonderful little production. &lt;br /&gt;&lt;br /&gt;The...</td>\n",
       "      <td>positive</td>\n",
       "      <td>wonderful little production br br film techniq...</td>\n",
       "      <td>1</td>\n",
       "    </tr>\n",
       "    <tr>\n",
       "      <th>2</th>\n",
       "      <td>I thought this was a wonderful way to spend ti...</td>\n",
       "      <td>positive</td>\n",
       "      <td>think wonderful way spend time hot summer week...</td>\n",
       "      <td>1</td>\n",
       "    </tr>\n",
       "    <tr>\n",
       "      <th>3</th>\n",
       "      <td>Basically there's a family where a little boy ...</td>\n",
       "      <td>negative</td>\n",
       "      <td>basically there family little boy jake think t...</td>\n",
       "      <td>0</td>\n",
       "    </tr>\n",
       "    <tr>\n",
       "      <th>4</th>\n",
       "      <td>Petter Mattei's \"Love in the Time of Money\" is...</td>\n",
       "      <td>positive</td>\n",
       "      <td>petter matteis love time money visually stun f...</td>\n",
       "      <td>1</td>\n",
       "    </tr>\n",
       "  </tbody>\n",
       "</table>\n",
       "</div>"
      ],
      "text/plain": [
       "                                              review sentiment  \\\n",
       "0  One of the other reviewers has mentioned that ...  positive   \n",
       "1  A wonderful little production. <br /><br />The...  positive   \n",
       "2  I thought this was a wonderful way to spend ti...  positive   \n",
       "3  Basically there's a family where a little boy ...  negative   \n",
       "4  Petter Mattei's \"Love in the Time of Money\" is...  positive   \n",
       "\n",
       "                                      cleaned_review  encoded_sentiment  \n",
       "0  one reviewer mention watch oz episode youll ho...                  1  \n",
       "1  wonderful little production br br film techniq...                  1  \n",
       "2  think wonderful way spend time hot summer week...                  1  \n",
       "3  basically there family little boy jake think t...                  0  \n",
       "4  petter matteis love time money visually stun f...                  1  "
      ]
     },
     "execution_count": 13,
     "metadata": {},
     "output_type": "execute_result"
    }
   ],
   "source": [
    "data.head()"
   ]
  },
  {
   "cell_type": "code",
   "execution_count": 14,
   "metadata": {},
   "outputs": [
    {
     "name": "stdout",
     "output_type": "stream",
     "text": [
      "File saved as 'cleaned_reviews.csv' with cleaned_review and encoded_sentiment.\n"
     ]
    }
   ],
   "source": [
    "# Filter the required columns\n",
    "filtered_data = data[['cleaned_review', 'encoded_sentiment']]\n",
    "\n",
    "# Save to CSV\n",
    "filtered_data.to_csv('cleaned_reviews.csv', index=False)\n",
    "\n",
    "print(\"File saved as 'cleaned_reviews.csv' with cleaned_review and encoded_sentiment.\")\n"
   ]
  },
  {
   "cell_type": "markdown",
   "metadata": {},
   "source": [
    "# Language Model"
   ]
  },
  {
   "cell_type": "code",
   "execution_count": 1,
   "metadata": {},
   "outputs": [],
   "source": [
    "import os\n",
    "import re\n",
    "from collections import Counter\n",
    "import nltk\n",
    "from nltk.tokenize import word_tokenize\n",
    "from sklearn.model_selection import train_test_split\n",
    "import torch\n",
    "from torch.utils.data import Dataset, DataLoader\n",
    "\n",
    "# Path to the folder containing the files\n",
    "DATA_PATH = r\"D:\\FCDS\\semster 7\\NLP\\Assginments\\Assginment 2\\language model\"\n",
    "\n",
    "# File names\n",
    "LINES_FILE = os.path.join(DATA_PATH, \"movie_lines.txt\")\n",
    "CONVERSATIONS_FILE = os.path.join(DATA_PATH, \"movie_conversations.txt\")\n"
   ]
  },
  {
   "cell_type": "code",
   "execution_count": 2,
   "metadata": {},
   "outputs": [
    {
     "name": "stderr",
     "output_type": "stream",
     "text": [
      "[nltk_data] Downloading package punkt to\n",
      "[nltk_data]     C:\\Users\\bassel\\AppData\\Roaming\\nltk_data...\n",
      "[nltk_data]   Package punkt is already up-to-date!\n"
     ]
    }
   ],
   "source": [
    "# Setup paths\n",
    "DATA_PATH = r\"G:\\mazen FCDS\\FCDS\\NLP\\Assginment 2\\language model\"\n",
    "LINES_FILE = os.path.join(DATA_PATH, \"movie_lines.txt\")\n",
    "CONVERSATIONS_FILE = os.path.join(DATA_PATH, \"movie_conversations.txt\")\n",
    "\n",
    "# Function to load movie lines\n",
    "def load_lines(file_path):\n",
    "    lines = {}\n",
    "    with open(file_path, \"r\", encoding=\"utf-8\", errors=\"ignore\") as file:\n",
    "        for line in file:\n",
    "            parts = line.strip().split(\" +++$+++ \")\n",
    "            if len(parts) >= 5:\n",
    "                line_id, text = parts[0], parts[4]\n",
    "                lines[line_id] = text\n",
    "    return lines\n",
    "\n",
    "# Function to load movie conversations\n",
    "def load_conversations(file_path, lines):\n",
    "    conversations = []\n",
    "    with open(file_path, \"r\", encoding=\"utf-8\", errors=\"ignore\") as file:\n",
    "        for line in file:\n",
    "            parts = line.strip().split(\" +++$+++ \")\n",
    "            if len(parts) >= 4:\n",
    "                utterance_ids = eval(parts[3])  # Convert string to list\n",
    "                conversations.append([lines[line_id] for line_id in utterance_ids if line_id in lines])\n",
    "    return conversations\n",
    "\n",
    "# Clean text function\n",
    "def clean_text(text):\n",
    "    text = text.lower()\n",
    "    text = re.sub(r\"[^a-zA-Z0-9?.!]+\", \" \", text)  # Remove special characters\n",
    "    text = re.sub(r\"([?.!])\", r\" \\1 \", text)       # Add space around punctuation\n",
    "    text = re.sub(r\"\\s+\", \" \", text).strip()       # Remove extra spaces\n",
    "    return text\n",
    "\n",
    "# Load conversations\n",
    "lines = load_lines(LINES_FILE)\n",
    "conversations = load_conversations(CONVERSATIONS_FILE, lines)\n",
    "\n",
    "# Clean each utterance\n",
    "cleaned_conversations = [[clean_text(utterance) for utterance in conv] for conv in conversations]\n",
    "\n",
    "# Download NLTK tokenization resources\n",
    "nltk.download('punkt')\n",
    "\n",
    "# Tokenize conversations\n",
    "def tokenize(conversations):\n",
    "    return [[word_tokenize(utterance) for utterance in conv] for conv in conversations]\n",
    "\n",
    "# Tokenize cleaned conversations\n",
    "tokenized_conversations = tokenize(cleaned_conversations)"
   ]
  },
  {
   "cell_type": "code",
   "execution_count": 3,
   "metadata": {},
   "outputs": [],
   "source": [
    "# Special tokens\n",
    "PAD_TOKEN = \"<PAD>\"\n",
    "SOS_TOKEN = \"<SOS>\"\n",
    "EOS_TOKEN = \"<EOS>\"\n",
    "UNK_TOKEN = \"<UNK>\"\n",
    "\n",
    "# Build vocabulary function\n",
    "def build_vocab(tokenized_conversations):\n",
    "    counter = Counter()\n",
    "    for conv in tokenized_conversations:\n",
    "        for utterance in conv:\n",
    "            counter.update(utterance)\n",
    "    \n",
    "    # Sort by frequency\n",
    "    sorted_vocab = [word for word, _ in counter.most_common()]\n",
    "    \n",
    "    # Add special tokens\n",
    "    vocab = [PAD_TOKEN, SOS_TOKEN, EOS_TOKEN, UNK_TOKEN] + sorted_vocab\n",
    "    word2idx = {word: idx for idx, word in enumerate(vocab)}\n",
    "    idx2word = {idx: word for word, idx in word2idx.items()}\n",
    "    return word2idx, idx2word\n",
    "\n",
    "# Build vocabulary\n",
    "word2idx, idx2word = build_vocab(tokenized_conversations)\n",
    "\n",
    "# Convert sentences to sequences\n",
    "def sentences_to_sequences(conversations, word2idx):\n",
    "    sequences = []\n",
    "    for conv in conversations:\n",
    "        for utterance in conv:\n",
    "            seq = [word2idx.get(word, word2idx[UNK_TOKEN]) for word in utterance]\n",
    "            sequences.append([word2idx[SOS_TOKEN]] + seq + [word2idx[EOS_TOKEN]])\n",
    "    return sequences\n",
    "\n",
    "# Pad sequences\n",
    "def pad_sequences(sequences, pad_token, vocab_size, max_length=None):\n",
    "    # Find the maximum length of sequences if not provided\n",
    "    if max_length is None:\n",
    "        max_length = max(len(seq) for seq in sequences)\n",
    "\n",
    "    # Pad sequences\n",
    "    padded = []\n",
    "    for seq in sequences:\n",
    "        seq = [min(i, vocab_size - 1) for i in seq[:max_length]] + [pad_token] * max(0, max_length - len(seq))\n",
    "        padded.append(seq)\n",
    "\n",
    "    return padded, max_length\n",
    "\n",
    "sequences = sentences_to_sequences(tokenized_conversations, word2idx)\n",
    "padded_sequences, max_length = pad_sequences(sequences, word2idx[PAD_TOKEN], len(word2idx))\n",
    "\n",
    "# Create input-output pairs\n",
    "def create_input_output_pairs(padded_sequences):\n",
    "    inputs = [seq[:-1] for seq in padded_sequences]\n",
    "    outputs = [seq[1:] for seq in padded_sequences]\n",
    "    return inputs, outputs\n",
    "\n",
    "inputs, outputs = create_input_output_pairs(padded_sequences)\n",
    "\n",
    "# Define a custom collate function\n",
    "def collate_fn(batch):\n",
    "    inputs = [torch.tensor(item[\"input\"], dtype=torch.long) for item in batch]\n",
    "    outputs = [torch.tensor(item[\"output\"], dtype=torch.long) for item in batch]\n",
    "    \n",
    "    # Pad sequences using the modified pad_sequences function\n",
    "    padded_inputs, max_length = pad_sequences([seq.tolist() for seq in inputs], word2idx[\"<PAD>\"], len(word2idx))\n",
    "    padded_outputs, _ = pad_sequences([seq.tolist() for seq in outputs], word2idx[\"<PAD>\"], len(word2idx), max_length)\n",
    "    \n",
    "    # Convert back to tensors\n",
    "    inputs_padded = torch.tensor(padded_inputs, dtype=torch.long)\n",
    "    outputs_padded = torch.tensor(padded_outputs, dtype=torch.long)\n",
    "    \n",
    "    return {\"input\": inputs_padded, \"output\": outputs_padded}\n",
    "\n",
    "# Define a Dataset class\n",
    "class MovieDialogsDataset(Dataset):\n",
    "    def __init__(self, inputs, outputs):\n",
    "        self.inputs = inputs\n",
    "        self.outputs = outputs\n",
    "    \n",
    "    def __len__(self):\n",
    "        return len(self.inputs)\n",
    "    \n",
    "    def __getitem__(self, index):\n",
    "        return {\"input\": self.inputs[index], \"output\": self.outputs[index]}\n",
    "\n",
    "# Create dataset and dataloaders\n",
    "dataset = MovieDialogsDataset(inputs, outputs)\n",
    "batch_size = 16\n",
    "train_loader = DataLoader(dataset, batch_size=batch_size, shuffle=True, collate_fn=collate_fn)\n",
    "test_loader = DataLoader(dataset, batch_size=batch_size, shuffle=False, collate_fn=collate_fn)\n"
   ]
  },
  {
   "cell_type": "code",
   "execution_count": 4,
   "metadata": {},
   "outputs": [
    {
     "name": "stdout",
     "output_type": "stream",
     "text": [
      "Preprocessed data saved to G:\\mazen FCDS\\FCDS\\NLP\\Assginment 2\\language model\\preprocessed_data.pkl\n"
     ]
    }
   ],
   "source": [
    "import pickle\n",
    "\n",
    "# Paths to save preprocessed data\n",
    "PREPROCESSED_DATA_PATH = os.path.join(DATA_PATH, \"preprocessed_data.pkl\")\n",
    "\n",
    "# Save preprocessed data\n",
    "def save_preprocessed_data(preprocessed_data, file_path):\n",
    "    with open(file_path, \"wb\") as file:\n",
    "        pickle.dump(preprocessed_data, file)\n",
    "    print(f\"Preprocessed data saved to {file_path}\")\n",
    "\n",
    "# Prepare data to save\n",
    "preprocessed_data = {\n",
    "    \"inputs\": inputs,\n",
    "    \"outputs\": outputs,\n",
    "    \"word2idx\": word2idx,\n",
    "    \"idx2word\": idx2word,\n",
    "    \"max_length\": max_length,\n",
    "}\n",
    "\n",
    "# Save to file\n",
    "save_preprocessed_data(preprocessed_data, PREPROCESSED_DATA_PATH)\n",
    "\n"
   ]
  }
 ],
 "metadata": {
  "kernelspec": {
   "display_name": "Python 3",
   "language": "python",
   "name": "python3"
  },
  "language_info": {
   "codemirror_mode": {
    "name": "ipython",
    "version": 3
   },
   "file_extension": ".py",
   "mimetype": "text/x-python",
   "name": "python",
   "nbconvert_exporter": "python",
   "pygments_lexer": "ipython3",
   "version": "3.9.13"
  }
 },
 "nbformat": 4,
 "nbformat_minor": 2
}
