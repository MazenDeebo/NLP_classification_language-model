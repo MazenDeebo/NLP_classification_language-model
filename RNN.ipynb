{
 "cells": [
  {
   "cell_type": "code",
   "execution_count": 1,
   "metadata": {},
   "outputs": [
    {
     "name": "stderr",
     "output_type": "stream",
     "text": [
      "c:\\Users\\bassel\\AppData\\Local\\Programs\\Python\\Python39\\lib\\site-packages\\tqdm\\auto.py:21: TqdmWarning: IProgress not found. Please update jupyter and ipywidgets. See https://ipywidgets.readthedocs.io/en/stable/user_install.html\n",
      "  from .autonotebook import tqdm as notebook_tqdm\n"
     ]
    }
   ],
   "source": [
    "import pandas as pd # to work on data frames and can handle any outlier or noise records in datasets\n",
    "import numpy as np # to get algebratic opertaion on data\n",
    "import matplotlib.pyplot as plt # to visualize data and cleaning ( i do it to show outputs of my cleaning (my point of veiw)) \n",
    "import seaborn as sns\n",
    "\n",
    "import os\n",
    "import pickle\n",
    "import random\n",
    "import re # this library work on regular expressions for pattern matching and string manipulation i search alot on it i understand this only\n",
    "import string # this library has ASCII letters, digits, punctuation, and whitespace i use it to get (punctuation) to remove it from data\n",
    "import nltk # library we use to preprocess on text data to make it clean and in standerd form to use it in NLP\n",
    "from nltk.corpus import stopwords # this module we use to remove stopwords\n",
    "from nltk.tokenize import word_tokenize # this module we use it to tokanise text into words\n",
    "from nltk.stem import WordNetLemmatizer # this lemmatizedr get base of each word to make words in his base ( if verb , noun , adverb or adgectives)\n",
    "\n",
    "from collections import Counter\n",
    "\n",
    "from sklearn.utils import resample # this module i use to oversample my data to get representitive data to represent toxic and nun-toxic equally\n",
    "from sklearn.model_selection import train_test_split # to split dataset into training and testing and validation\n",
    "from sklearn.metrics import accuracy_score, precision_score, recall_score, f1_score, roc_auc_score # to calculate accuracy and all of f1 score and other matrices\n",
    "\n",
    "from tensorflow.keras.preprocessing.text import Tokenizer\n",
    "from tensorflow.keras.utils import pad_sequences\n",
    "\n",
    "from tqdm.auto import tqdm\n",
    "\n",
    "import torch\n",
    "import torch.nn as nn\n",
    "import torch.optim as optim\n",
    "from torch.utils.data import DataLoader,TensorDataset,Dataset\n"
   ]
  },
  {
   "cell_type": "code",
   "execution_count": 4,
   "metadata": {},
   "outputs": [],
   "source": [
    "import torch\n",
    "\n",
    "# Set the device (either CUDA or CPU)\n",
    "device = torch.device(\"cuda\" if torch.cuda.is_available() else \"cpu\")\n",
    "\n",
    "if torch.cuda.is_available():\n",
    "    # Get the index of the current GPU\n",
    "    device_index = torch.cuda.current_device()\n",
    "    \n",
    "    # Limit the GPU memory usage to 70% of the available memory\n",
    "    torch.cuda.set_per_process_memory_fraction(0.7, device_index)\n",
    "\n",
    "# Now, your model and tensors will use only 70% of the available GPU memory.\n"
   ]
  },
  {
   "cell_type": "markdown",
   "metadata": {},
   "source": [
    "# Text Classification"
   ]
  },
  {
   "cell_type": "code",
   "execution_count": 4,
   "metadata": {},
   "outputs": [],
   "source": [
    "new_data = pd.read_csv(r\"D:\\FCDS\\semster 7\\NLP\\Assginments\\Assginment 2\\cleaned_reviews.csv\")"
   ]
  },
  {
   "cell_type": "code",
   "execution_count": 5,
   "metadata": {},
   "outputs": [
    {
     "data": {
      "text/html": [
       "<div>\n",
       "<style scoped>\n",
       "    .dataframe tbody tr th:only-of-type {\n",
       "        vertical-align: middle;\n",
       "    }\n",
       "\n",
       "    .dataframe tbody tr th {\n",
       "        vertical-align: top;\n",
       "    }\n",
       "\n",
       "    .dataframe thead th {\n",
       "        text-align: right;\n",
       "    }\n",
       "</style>\n",
       "<table border=\"1\" class=\"dataframe\">\n",
       "  <thead>\n",
       "    <tr style=\"text-align: right;\">\n",
       "      <th></th>\n",
       "      <th>cleaned_review</th>\n",
       "      <th>encoded_sentiment</th>\n",
       "    </tr>\n",
       "  </thead>\n",
       "  <tbody>\n",
       "    <tr>\n",
       "      <th>0</th>\n",
       "      <td>[one, reviewer, mention, watch, oz, episode, y...</td>\n",
       "      <td>1</td>\n",
       "    </tr>\n",
       "    <tr>\n",
       "      <th>1</th>\n",
       "      <td>[wonderful, little, production, br, br, film, ...</td>\n",
       "      <td>1</td>\n",
       "    </tr>\n",
       "    <tr>\n",
       "      <th>2</th>\n",
       "      <td>[think, wonderful, way, spend, time, hot, summ...</td>\n",
       "      <td>1</td>\n",
       "    </tr>\n",
       "    <tr>\n",
       "      <th>3</th>\n",
       "      <td>[basically, there, family, little, boy, jake, ...</td>\n",
       "      <td>0</td>\n",
       "    </tr>\n",
       "    <tr>\n",
       "      <th>4</th>\n",
       "      <td>[petter, matteis, love, time, money, visually,...</td>\n",
       "      <td>1</td>\n",
       "    </tr>\n",
       "    <tr>\n",
       "      <th>...</th>\n",
       "      <td>...</td>\n",
       "      <td>...</td>\n",
       "    </tr>\n",
       "    <tr>\n",
       "      <th>49577</th>\n",
       "      <td>[think, movie, right, good, job, wasnt, creati...</td>\n",
       "      <td>1</td>\n",
       "    </tr>\n",
       "    <tr>\n",
       "      <th>49578</th>\n",
       "      <td>[bad, plot, bad, dialogue, bad, act, idiotic, ...</td>\n",
       "      <td>0</td>\n",
       "    </tr>\n",
       "    <tr>\n",
       "      <th>49579</th>\n",
       "      <td>[catholic, teach, parochial, elementary, schoo...</td>\n",
       "      <td>0</td>\n",
       "    </tr>\n",
       "    <tr>\n",
       "      <th>49580</th>\n",
       "      <td>[im, go, disagree, previous, comment, side, ma...</td>\n",
       "      <td>0</td>\n",
       "    </tr>\n",
       "    <tr>\n",
       "      <th>49581</th>\n",
       "      <td>[one, expect, star, trek, movie, high, art, fa...</td>\n",
       "      <td>0</td>\n",
       "    </tr>\n",
       "  </tbody>\n",
       "</table>\n",
       "<p>49582 rows × 2 columns</p>\n",
       "</div>"
      ],
      "text/plain": [
       "                                          cleaned_review  encoded_sentiment\n",
       "0      [one, reviewer, mention, watch, oz, episode, y...                  1\n",
       "1      [wonderful, little, production, br, br, film, ...                  1\n",
       "2      [think, wonderful, way, spend, time, hot, summ...                  1\n",
       "3      [basically, there, family, little, boy, jake, ...                  0\n",
       "4      [petter, matteis, love, time, money, visually,...                  1\n",
       "...                                                  ...                ...\n",
       "49577  [think, movie, right, good, job, wasnt, creati...                  1\n",
       "49578  [bad, plot, bad, dialogue, bad, act, idiotic, ...                  0\n",
       "49579  [catholic, teach, parochial, elementary, schoo...                  0\n",
       "49580  [im, go, disagree, previous, comment, side, ma...                  0\n",
       "49581  [one, expect, star, trek, movie, high, art, fa...                  0\n",
       "\n",
       "[49582 rows x 2 columns]"
      ]
     },
     "execution_count": 5,
     "metadata": {},
     "output_type": "execute_result"
    }
   ],
   "source": [
    "# Apply tokenization to the 'cleaned_review' column\n",
    "new_data['cleaned_review'] = new_data['cleaned_review'].apply(word_tokenize)\n",
    "new_data\n"
   ]
  },
  {
   "cell_type": "code",
   "execution_count": 6,
   "metadata": {},
   "outputs": [],
   "source": [
    "# Define maximum number of words and sequence length\n",
    "max_words = 10000\n",
    "max_sequence_length = 100\n",
    "\n",
    "# Tokenize and convert text to sequences\n",
    "tokenizer = Tokenizer(num_words=max_words, oov_token='<OOV>')\n",
    "tokenizer.fit_on_texts(new_data['cleaned_review'].apply(lambda x: ' '.join(x)))\n",
    "sequences = tokenizer.texts_to_sequences(new_data['cleaned_review'].apply(lambda x: ' '.join(x)))\n",
    "\n",
    "# Pad sequences to ensure uniform length\n",
    "padded_sequences = pad_sequences(sequences, maxlen=max_sequence_length, padding='post')\n",
    "\n",
    "# Convert to tensors\n",
    "X = torch.tensor(padded_sequences, dtype=torch.long)\n",
    "y = torch.tensor(new_data['encoded_sentiment'].values, dtype=torch.float)  # Replace with your target column\n",
    "\n",
    "# Split into train and test sets\n",
    "X_train, X_test, y_train, y_test = train_test_split(X, y, test_size=0.2, random_state=42)\n"
   ]
  },
  {
   "cell_type": "markdown",
   "metadata": {},
   "source": [
    "# GloVe (Global Vectors for Word Representation)\n",
    "Pros:\n",
    "GloVe embeddings are pre-trained on large corpora, making them suitable for general text understanding.\n",
    "\n",
    "- GloVe: Recommended if you have a large, general corpus with standard vocabulary.\n",
    "- FastText: Recommended if you have a dataset with many rare, misspelled, or domain-specific words.\n",
    "- Word2Vec: A good alternative to GloVe, especially if you're using the Google News pre-trained model."
   ]
  },
  {
   "cell_type": "code",
   "execution_count": 7,
   "metadata": {},
   "outputs": [
    {
     "name": "stdout",
     "output_type": "stream",
     "text": [
      "Loading GloVe model...\n",
      "Loaded 400000 word vectors.\n"
     ]
    }
   ],
   "source": [
    "def load_glove_model(file_path):\n",
    "    print(\"Loading GloVe model...\")\n",
    "    glove_model = {}\n",
    "    with open(file_path, 'r', encoding='utf-8') as f:\n",
    "        for line in f:\n",
    "            values = line.split()\n",
    "            word = values[0]\n",
    "            vector = np.asarray(values[1:], dtype='float32')\n",
    "            glove_model[word] = vector\n",
    "    print(f\"Loaded {len(glove_model)} word vectors.\")\n",
    "    return glove_model\n",
    "\n",
    "# Example: Load the 100-dimensional GloVe vectors\n",
    "glove_file_path = r\"D:\\FCDS\\semster 7\\NLP\\Assginments\\Assginment 2\\glove.6B.300d.txt\\glove.6B.300d.txt\"\n",
    "glove_model = load_glove_model(glove_file_path)\n"
   ]
  },
  {
   "cell_type": "code",
   "execution_count": 8,
   "metadata": {},
   "outputs": [],
   "source": [
    "# Create an embedding matrix\n",
    "embedding_dim = 300  \n",
    "embedding_matrix = np.zeros((max_words, embedding_dim))\n",
    "\n",
    "# Populate the embedding matrix with the GloVe vectors\n",
    "for word, index in tokenizer.word_index.items():\n",
    "    if index >= max_words:\n",
    "        continue\n",
    "    embedding_vector = glove_model.get(word)\n",
    "    if embedding_vector is not None:\n",
    "        embedding_matrix[index] = embedding_vector\n"
   ]
  },
  {
   "cell_type": "markdown",
   "metadata": {},
   "source": [
    "# Classifier"
   ]
  },
  {
   "cell_type": "code",
   "execution_count": 9,
   "metadata": {},
   "outputs": [],
   "source": [
    "class RNNClassifier(nn.Module):\n",
    "    def __init__(self, embedding_matrix, hidden_dim, output_dim, dropout_rate):\n",
    "        super(RNNClassifier, self).__init__()\n",
    "        vocab_size, embedding_dim = embedding_matrix.shape\n",
    "        \n",
    "        # Randomly initialized embedding layer\n",
    "        self.embedding = nn.Embedding.from_pretrained(\n",
    "            torch.tensor(embedding_matrix, dtype=torch.float), freeze=False\n",
    "        )\n",
    "        \n",
    "        # RNN layer\n",
    "        self.rnn = nn.RNN(\n",
    "            input_size=embedding_dim, hidden_size=hidden_dim, num_layers=2, batch_first=True\n",
    "        )\n",
    "        \n",
    "        # Fully connected layer\n",
    "        self.fc = nn.Linear(hidden_dim, output_dim)\n",
    "        \n",
    "        # Dropout layer\n",
    "        self.dropout = nn.Dropout(dropout_rate)\n",
    "        \n",
    "    def forward(self, x):\n",
    "        # Get embeddings for input x\n",
    "        embedded = self.embedding(x)\n",
    "        \n",
    "        # Pass through RNN\n",
    "        _, hidden = self.rnn(embedded)\n",
    "        \n",
    "        # Use the last hidden state (final time step)\n",
    "        hidden = hidden[-1]  # Last layer's hidden state\n",
    "        \n",
    "        # Pass through fully connected layer with dropout\n",
    "        out = self.fc(self.dropout(hidden))\n",
    "        \n",
    "        return out"
   ]
  },
  {
   "cell_type": "code",
   "execution_count": 10,
   "metadata": {},
   "outputs": [],
   "source": [
    "# Instantiate the RNN model\n",
    "hidden_dim = 128  # RNN hidden state dimension\n",
    "output_dim = 1  # Binary classification\n",
    "dropout_rate = 0.2\n",
    "\n",
    "model = RNNClassifier(embedding_matrix, hidden_dim, output_dim, dropout_rate)\n",
    "# Loss and optimizer\n",
    "criterion = nn.BCEWithLogitsLoss()  # Binary cross-entropy loss\n",
    "optimizer = torch.optim.Adam(model.parameters(), lr=0.001)\n"
   ]
  },
  {
   "cell_type": "code",
   "execution_count": 11,
   "metadata": {},
   "outputs": [],
   "source": [
    "\n",
    "# Create DataLoaders\n",
    "batch_size = 32\n",
    "train_data = TensorDataset(X_train, y_train)\n",
    "test_data = TensorDataset(X_test, y_test)\n",
    "\n",
    "train_loader = DataLoader(train_data, batch_size=batch_size, shuffle=True)\n",
    "test_loader = DataLoader(test_data, batch_size=batch_size, shuffle=False)\n"
   ]
  },
  {
   "cell_type": "code",
   "execution_count": 12,
   "metadata": {},
   "outputs": [],
   "source": [
    "epochs = 30"
   ]
  },
  {
   "cell_type": "code",
   "execution_count": 13,
   "metadata": {},
   "outputs": [],
   "source": [
    "def Train(model):\n",
    "    History = {}\n",
    "    Accuracy = []\n",
    "    Losses = []\n",
    "    model = model.to(device)\n",
    "    \n",
    "    for epoch in range(epochs):\n",
    "        model.train()\n",
    "        total_loss = 0\n",
    "        correct_predictions = 0\n",
    "        total_predictions = 0\n",
    "        \n",
    "        for X_batch, y_batch in tqdm(train_loader):\n",
    "            X_batch, y_batch = X_batch.to(device), y_batch.to(device)\n",
    "            \n",
    "            optimizer.zero_grad()\n",
    "            predictions = model(X_batch)  # Model output\n",
    "            \n",
    "            # Ensure predictions and y_batch have the same shape\n",
    "            predictions = predictions.view(-1, 1)  # Ensure predictions have shape (batch_size, 1)\n",
    "            \n",
    "            if y_batch.dim() == 1:\n",
    "                y_batch = y_batch.unsqueeze(1)  # Make sure y_batch has shape (batch_size, 1)\n",
    "            \n",
    "            # Calculate loss\n",
    "            loss = criterion(predictions, y_batch)\n",
    "            loss.backward()\n",
    "            optimizer.step()\n",
    "            \n",
    "            total_loss += loss.item()\n",
    "            \n",
    "            # Calculate accuracy\n",
    "            predicted_labels = (predictions > 0.5).float()  # For binary classification (0 or 1)\n",
    "            correct_predictions += (predicted_labels == y_batch).sum().item()\n",
    "            total_predictions += y_batch.size(0)\n",
    "        \n",
    "        accuracy = correct_predictions / total_predictions * 100\n",
    "        print(f\"Epoch {epoch+1}/{epochs}, Loss: {total_loss/len(train_loader):.4f}, Accuracy: {accuracy:.2f}%\")\n",
    "        Losses.append((total_loss/len(train_loader)))\n",
    "        Accuracy.append(accuracy)\n",
    "    \n",
    "    History['Accuracy'] = Accuracy\n",
    "    History['Loss'] = Losses\n",
    "    return model ,History\n"
   ]
  },
  {
   "cell_type": "code",
   "execution_count": 14,
   "metadata": {},
   "outputs": [],
   "source": [
    "def Eval(model ,history):\n",
    "    model.eval()\n",
    "    \n",
    "    all_preds = []\n",
    "    all_labels = []\n",
    "    \n",
    "    # Evaluate the model\n",
    "    with torch.no_grad():\n",
    "        for X_batch, y_batch in test_loader:\n",
    "            X_batch, y_batch = X_batch.to(device), y_batch.to(device)\n",
    "            \n",
    "            # Get predictions from the model\n",
    "            predictions = model(X_batch).squeeze()\n",
    "            \n",
    "            # Convert probabilities to binary predictions\n",
    "            predicted_labels = (torch.sigmoid(predictions) > 0.5).float()\n",
    "            \n",
    "            # Store predictions and true labels\n",
    "            all_preds.extend(predicted_labels.cpu().numpy())\n",
    "            all_labels.extend(y_batch.cpu().numpy())\n",
    "    \n",
    "    # Calculate metrics\n",
    "    accuracy = accuracy_score(all_labels, all_preds)\n",
    "    precision = precision_score(all_labels, all_preds)\n",
    "    recall = recall_score(all_labels, all_preds)\n",
    "    f1 = f1_score(all_labels, all_preds)\n",
    "    \n",
    "    try:\n",
    "        roc_auc = roc_auc_score(all_labels, all_preds)\n",
    "    except ValueError:\n",
    "        roc_auc = None\n",
    "\n",
    "    # Store metrics in a DataFrame\n",
    "    metrics_df = pd.DataFrame({\n",
    "        \"Metric\": [\"Accuracy\", \"Precision\", \"Recall\", \"F1-Score\", \"ROC AUC\"],\n",
    "        \"Value\": [accuracy, precision, recall, f1, roc_auc if roc_auc is not None else \"N/A\"]\n",
    "    })\n",
    "    \n",
    "    print(metrics_df)\n",
    "    \n",
    "    # Plot Accuracy and Loss from History\n",
    "    plt.figure(figsize=(12, 5))\n",
    "\n",
    "    # Plot Accuracy\n",
    "    plt.subplot(1, 2, 1)\n",
    "    plt.plot(history['Accuracy'], label='Train Accuracy', marker='o')\n",
    "    plt.title('Model Accuracy')\n",
    "    plt.xlabel('Epoch')\n",
    "    plt.ylabel('Accuracy')\n",
    "    plt.legend()\n",
    "    plt.grid()\n",
    "\n",
    "    # Plot Loss\n",
    "    plt.subplot(1, 2, 2)\n",
    "    plt.plot(history['Loss'], label='Train Loss', marker='o')\n",
    "    plt.title('Model Loss')\n",
    "    plt.xlabel('Epoch')\n",
    "    plt.ylabel('Loss')\n",
    "    plt.legend()\n",
    "    plt.grid()\n",
    "\n",
    "    plt.tight_layout()\n",
    "    plt.show()\n",
    "    return metrics_df"
   ]
  },
  {
   "cell_type": "code",
   "execution_count": 15,
   "metadata": {},
   "outputs": [
    {
     "data": {
      "application/vnd.jupyter.widget-view+json": {
       "model_id": "dd7e6a6e1b134ec6980c2ff579cc41ca",
       "version_major": 2,
       "version_minor": 0
      },
      "text/plain": [
       "  0%|          | 0/1240 [00:00<?, ?it/s]"
      ]
     },
     "metadata": {},
     "output_type": "display_data"
    },
    {
     "name": "stdout",
     "output_type": "stream",
     "text": [
      "Epoch 1/30, Loss: 0.6799, Accuracy: 53.38%\n"
     ]
    },
    {
     "data": {
      "application/vnd.jupyter.widget-view+json": {
       "model_id": "2998d060307b4b8d9ef4476a77a143fe",
       "version_major": 2,
       "version_minor": 0
      },
      "text/plain": [
       "  0%|          | 0/1240 [00:00<?, ?it/s]"
      ]
     },
     "metadata": {},
     "output_type": "display_data"
    },
    {
     "name": "stdout",
     "output_type": "stream",
     "text": [
      "Epoch 2/30, Loss: 0.6764, Accuracy: 52.91%\n"
     ]
    },
    {
     "data": {
      "application/vnd.jupyter.widget-view+json": {
       "model_id": "ad23abce878542f7b51b43f37ccdba93",
       "version_major": 2,
       "version_minor": 0
      },
      "text/plain": [
       "  0%|          | 0/1240 [00:00<?, ?it/s]"
      ]
     },
     "metadata": {},
     "output_type": "display_data"
    },
    {
     "name": "stdout",
     "output_type": "stream",
     "text": [
      "Epoch 3/30, Loss: 0.6796, Accuracy: 53.53%\n"
     ]
    },
    {
     "data": {
      "application/vnd.jupyter.widget-view+json": {
       "model_id": "45222771130c433497cef24a48e56d55",
       "version_major": 2,
       "version_minor": 0
      },
      "text/plain": [
       "  0%|          | 0/1240 [00:00<?, ?it/s]"
      ]
     },
     "metadata": {},
     "output_type": "display_data"
    },
    {
     "name": "stdout",
     "output_type": "stream",
     "text": [
      "Epoch 4/30, Loss: 0.6054, Accuracy: 64.72%\n"
     ]
    },
    {
     "data": {
      "application/vnd.jupyter.widget-view+json": {
       "model_id": "756b3a66a4d2422899c7a3a66753b8df",
       "version_major": 2,
       "version_minor": 0
      },
      "text/plain": [
       "  0%|          | 0/1240 [00:00<?, ?it/s]"
      ]
     },
     "metadata": {},
     "output_type": "display_data"
    },
    {
     "name": "stdout",
     "output_type": "stream",
     "text": [
      "Epoch 5/30, Loss: 0.6081, Accuracy: 64.21%\n"
     ]
    },
    {
     "data": {
      "application/vnd.jupyter.widget-view+json": {
       "model_id": "cec054c4f5c84f799f961ed7092f24e8",
       "version_major": 2,
       "version_minor": 0
      },
      "text/plain": [
       "  0%|          | 0/1240 [00:00<?, ?it/s]"
      ]
     },
     "metadata": {},
     "output_type": "display_data"
    },
    {
     "name": "stdout",
     "output_type": "stream",
     "text": [
      "Epoch 6/30, Loss: 0.6475, Accuracy: 57.90%\n"
     ]
    },
    {
     "data": {
      "application/vnd.jupyter.widget-view+json": {
       "model_id": "fb4ec29014924234a32bc5a57b7272ab",
       "version_major": 2,
       "version_minor": 0
      },
      "text/plain": [
       "  0%|          | 0/1240 [00:00<?, ?it/s]"
      ]
     },
     "metadata": {},
     "output_type": "display_data"
    },
    {
     "name": "stdout",
     "output_type": "stream",
     "text": [
      "Epoch 7/30, Loss: 0.6227, Accuracy: 61.20%\n"
     ]
    },
    {
     "data": {
      "application/vnd.jupyter.widget-view+json": {
       "model_id": "b0fb97113be84f09a01def541d8e5dd7",
       "version_major": 2,
       "version_minor": 0
      },
      "text/plain": [
       "  0%|          | 0/1240 [00:00<?, ?it/s]"
      ]
     },
     "metadata": {},
     "output_type": "display_data"
    },
    {
     "name": "stdout",
     "output_type": "stream",
     "text": [
      "Epoch 8/30, Loss: 0.6405, Accuracy: 58.00%\n"
     ]
    },
    {
     "data": {
      "application/vnd.jupyter.widget-view+json": {
       "model_id": "c3b1cee9018e4a909e0d86f718b41427",
       "version_major": 2,
       "version_minor": 0
      },
      "text/plain": [
       "  0%|          | 0/1240 [00:00<?, ?it/s]"
      ]
     },
     "metadata": {},
     "output_type": "display_data"
    },
    {
     "name": "stdout",
     "output_type": "stream",
     "text": [
      "Epoch 9/30, Loss: 0.6086, Accuracy: 63.18%\n"
     ]
    },
    {
     "data": {
      "application/vnd.jupyter.widget-view+json": {
       "model_id": "995e129ff38746d7809b08a5b287952b",
       "version_major": 2,
       "version_minor": 0
      },
      "text/plain": [
       "  0%|          | 0/1240 [00:00<?, ?it/s]"
      ]
     },
     "metadata": {},
     "output_type": "display_data"
    },
    {
     "name": "stdout",
     "output_type": "stream",
     "text": [
      "Epoch 10/30, Loss: 0.6009, Accuracy: 64.69%\n"
     ]
    },
    {
     "data": {
      "application/vnd.jupyter.widget-view+json": {
       "model_id": "07b55c23441a4591b30a8bfaa169a70f",
       "version_major": 2,
       "version_minor": 0
      },
      "text/plain": [
       "  0%|          | 0/1240 [00:00<?, ?it/s]"
      ]
     },
     "metadata": {},
     "output_type": "display_data"
    },
    {
     "name": "stdout",
     "output_type": "stream",
     "text": [
      "Epoch 11/30, Loss: 0.5298, Accuracy: 74.61%\n"
     ]
    },
    {
     "data": {
      "application/vnd.jupyter.widget-view+json": {
       "model_id": "0d672136597e4cbe94bf616aeb473d7e",
       "version_major": 2,
       "version_minor": 0
      },
      "text/plain": [
       "  0%|          | 0/1240 [00:00<?, ?it/s]"
      ]
     },
     "metadata": {},
     "output_type": "display_data"
    },
    {
     "name": "stdout",
     "output_type": "stream",
     "text": [
      "Epoch 12/30, Loss: 0.5925, Accuracy: 66.40%\n"
     ]
    },
    {
     "data": {
      "application/vnd.jupyter.widget-view+json": {
       "model_id": "ebf91835876f44098c230d2e29a24f31",
       "version_major": 2,
       "version_minor": 0
      },
      "text/plain": [
       "  0%|          | 0/1240 [00:00<?, ?it/s]"
      ]
     },
     "metadata": {},
     "output_type": "display_data"
    },
    {
     "name": "stdout",
     "output_type": "stream",
     "text": [
      "Epoch 13/30, Loss: 0.6455, Accuracy: 57.74%\n"
     ]
    },
    {
     "data": {
      "application/vnd.jupyter.widget-view+json": {
       "model_id": "d0fb2cfd25484376809fdf295bb4edf4",
       "version_major": 2,
       "version_minor": 0
      },
      "text/plain": [
       "  0%|          | 0/1240 [00:00<?, ?it/s]"
      ]
     },
     "metadata": {},
     "output_type": "display_data"
    },
    {
     "name": "stdout",
     "output_type": "stream",
     "text": [
      "Epoch 14/30, Loss: 0.6096, Accuracy: 63.10%\n"
     ]
    },
    {
     "data": {
      "application/vnd.jupyter.widget-view+json": {
       "model_id": "a56e6e8c4a8940f1973160e69a8362c3",
       "version_major": 2,
       "version_minor": 0
      },
      "text/plain": [
       "  0%|          | 0/1240 [00:00<?, ?it/s]"
      ]
     },
     "metadata": {},
     "output_type": "display_data"
    },
    {
     "name": "stdout",
     "output_type": "stream",
     "text": [
      "Epoch 15/30, Loss: 0.6025, Accuracy: 63.81%\n"
     ]
    },
    {
     "data": {
      "application/vnd.jupyter.widget-view+json": {
       "model_id": "c2dd7bd2dce24cdea212dcedef0012e3",
       "version_major": 2,
       "version_minor": 0
      },
      "text/plain": [
       "  0%|          | 0/1240 [00:00<?, ?it/s]"
      ]
     },
     "metadata": {},
     "output_type": "display_data"
    },
    {
     "name": "stdout",
     "output_type": "stream",
     "text": [
      "Epoch 16/30, Loss: 0.5472, Accuracy: 70.44%\n"
     ]
    },
    {
     "data": {
      "application/vnd.jupyter.widget-view+json": {
       "model_id": "17adb46a914c492bb4b9f2994854b69b",
       "version_major": 2,
       "version_minor": 0
      },
      "text/plain": [
       "  0%|          | 0/1240 [00:00<?, ?it/s]"
      ]
     },
     "metadata": {},
     "output_type": "display_data"
    },
    {
     "name": "stdout",
     "output_type": "stream",
     "text": [
      "Epoch 17/30, Loss: 0.5573, Accuracy: 70.10%\n"
     ]
    },
    {
     "data": {
      "application/vnd.jupyter.widget-view+json": {
       "model_id": "602378427f6c422dbceb5693cc92dc50",
       "version_major": 2,
       "version_minor": 0
      },
      "text/plain": [
       "  0%|          | 0/1240 [00:00<?, ?it/s]"
      ]
     },
     "metadata": {},
     "output_type": "display_data"
    },
    {
     "name": "stdout",
     "output_type": "stream",
     "text": [
      "Epoch 18/30, Loss: 0.5280, Accuracy: 74.68%\n"
     ]
    },
    {
     "data": {
      "application/vnd.jupyter.widget-view+json": {
       "model_id": "857d344705494d88a741fd3789a58faa",
       "version_major": 2,
       "version_minor": 0
      },
      "text/plain": [
       "  0%|          | 0/1240 [00:00<?, ?it/s]"
      ]
     },
     "metadata": {},
     "output_type": "display_data"
    },
    {
     "name": "stdout",
     "output_type": "stream",
     "text": [
      "Epoch 19/30, Loss: 0.5251, Accuracy: 73.38%\n"
     ]
    },
    {
     "data": {
      "application/vnd.jupyter.widget-view+json": {
       "model_id": "7b23755f27c44893a59a341b2dd0d80e",
       "version_major": 2,
       "version_minor": 0
      },
      "text/plain": [
       "  0%|          | 0/1240 [00:00<?, ?it/s]"
      ]
     },
     "metadata": {},
     "output_type": "display_data"
    },
    {
     "name": "stdout",
     "output_type": "stream",
     "text": [
      "Epoch 20/30, Loss: 0.4673, Accuracy: 80.00%\n"
     ]
    },
    {
     "data": {
      "application/vnd.jupyter.widget-view+json": {
       "model_id": "f91bf591a31c4f14bc51671b4c89bc39",
       "version_major": 2,
       "version_minor": 0
      },
      "text/plain": [
       "  0%|          | 0/1240 [00:00<?, ?it/s]"
      ]
     },
     "metadata": {},
     "output_type": "display_data"
    },
    {
     "name": "stdout",
     "output_type": "stream",
     "text": [
      "Epoch 21/30, Loss: 0.4809, Accuracy: 77.85%\n"
     ]
    },
    {
     "data": {
      "application/vnd.jupyter.widget-view+json": {
       "model_id": "3f76a0949dd347ebb31e0337a70685c8",
       "version_major": 2,
       "version_minor": 0
      },
      "text/plain": [
       "  0%|          | 0/1240 [00:00<?, ?it/s]"
      ]
     },
     "metadata": {},
     "output_type": "display_data"
    },
    {
     "name": "stdout",
     "output_type": "stream",
     "text": [
      "Epoch 22/30, Loss: 0.5638, Accuracy: 67.89%\n"
     ]
    },
    {
     "data": {
      "application/vnd.jupyter.widget-view+json": {
       "model_id": "2aa540ae46814fc1b1ee0d6c9e8434b3",
       "version_major": 2,
       "version_minor": 0
      },
      "text/plain": [
       "  0%|          | 0/1240 [00:00<?, ?it/s]"
      ]
     },
     "metadata": {},
     "output_type": "display_data"
    },
    {
     "name": "stdout",
     "output_type": "stream",
     "text": [
      "Epoch 23/30, Loss: 0.4873, Accuracy: 77.39%\n"
     ]
    },
    {
     "data": {
      "application/vnd.jupyter.widget-view+json": {
       "model_id": "40593895fbb542eaa803ab99bf5963b4",
       "version_major": 2,
       "version_minor": 0
      },
      "text/plain": [
       "  0%|          | 0/1240 [00:00<?, ?it/s]"
      ]
     },
     "metadata": {},
     "output_type": "display_data"
    },
    {
     "name": "stdout",
     "output_type": "stream",
     "text": [
      "Epoch 24/30, Loss: 0.5187, Accuracy: 73.96%\n"
     ]
    },
    {
     "data": {
      "application/vnd.jupyter.widget-view+json": {
       "model_id": "2a8d50f34f214defbd68bdefa34c9cd8",
       "version_major": 2,
       "version_minor": 0
      },
      "text/plain": [
       "  0%|          | 0/1240 [00:00<?, ?it/s]"
      ]
     },
     "metadata": {},
     "output_type": "display_data"
    },
    {
     "name": "stdout",
     "output_type": "stream",
     "text": [
      "Epoch 25/30, Loss: 0.5171, Accuracy: 72.25%\n"
     ]
    },
    {
     "data": {
      "application/vnd.jupyter.widget-view+json": {
       "model_id": "36046ae5d72b47e3b0792417edbaeee1",
       "version_major": 2,
       "version_minor": 0
      },
      "text/plain": [
       "  0%|          | 0/1240 [00:00<?, ?it/s]"
      ]
     },
     "metadata": {},
     "output_type": "display_data"
    },
    {
     "name": "stdout",
     "output_type": "stream",
     "text": [
      "Epoch 26/30, Loss: 0.5085, Accuracy: 75.04%\n"
     ]
    },
    {
     "data": {
      "application/vnd.jupyter.widget-view+json": {
       "model_id": "119ad0d83eb94fce8c70f8052cd54fa8",
       "version_major": 2,
       "version_minor": 0
      },
      "text/plain": [
       "  0%|          | 0/1240 [00:00<?, ?it/s]"
      ]
     },
     "metadata": {},
     "output_type": "display_data"
    },
    {
     "name": "stdout",
     "output_type": "stream",
     "text": [
      "Epoch 27/30, Loss: 0.4721, Accuracy: 78.79%\n"
     ]
    },
    {
     "data": {
      "application/vnd.jupyter.widget-view+json": {
       "model_id": "8b2660337a7443efaca475e584432915",
       "version_major": 2,
       "version_minor": 0
      },
      "text/plain": [
       "  0%|          | 0/1240 [00:00<?, ?it/s]"
      ]
     },
     "metadata": {},
     "output_type": "display_data"
    },
    {
     "name": "stdout",
     "output_type": "stream",
     "text": [
      "Epoch 28/30, Loss: 0.4807, Accuracy: 77.98%\n"
     ]
    },
    {
     "data": {
      "application/vnd.jupyter.widget-view+json": {
       "model_id": "e0bc0932150f4e72a3ffdd5c81818707",
       "version_major": 2,
       "version_minor": 0
      },
      "text/plain": [
       "  0%|          | 0/1240 [00:00<?, ?it/s]"
      ]
     },
     "metadata": {},
     "output_type": "display_data"
    },
    {
     "name": "stdout",
     "output_type": "stream",
     "text": [
      "Epoch 29/30, Loss: 0.5086, Accuracy: 75.34%\n"
     ]
    },
    {
     "data": {
      "application/vnd.jupyter.widget-view+json": {
       "model_id": "24c76786166e4299a93aee30fbfe1644",
       "version_major": 2,
       "version_minor": 0
      },
      "text/plain": [
       "  0%|          | 0/1240 [00:00<?, ?it/s]"
      ]
     },
     "metadata": {},
     "output_type": "display_data"
    },
    {
     "name": "stdout",
     "output_type": "stream",
     "text": [
      "Epoch 30/30, Loss: 0.6325, Accuracy: 60.28%\n"
     ]
    }
   ],
   "source": [
    "model ,history = Train(model)"
   ]
  },
  {
   "cell_type": "code",
   "execution_count": 16,
   "metadata": {},
   "outputs": [
    {
     "name": "stdout",
     "output_type": "stream",
     "text": [
      "      Metric     Value\n",
      "0   Accuracy  0.635474\n",
      "1  Precision  0.629292\n",
      "2     Recall  0.666332\n",
      "3   F1-Score  0.647283\n",
      "4    ROC AUC  0.635353\n"
     ]
    },
    {
     "data": {
      "image/png": "[encoded data removed]",
      "text/plain": [
       "<Figure size 1200x500 with 2 Axes>"
      ]
     },
     "metadata": {},
     "output_type": "display_data"
    }
   ],
   "source": [
    "rnn_metrics = Eval(model ,history)\n",
    "rnn_metrics['Model'] = 'RNN'"
   ]
  },
  {
   "cell_type": "code",
   "execution_count": 17,
   "metadata": {},
   "outputs": [
    {
     "data": {
      "text/plain": [
       "7036"
      ]
     },
     "execution_count": 17,
     "metadata": {},
     "output_type": "execute_result"
    }
   ],
   "source": [
    "import torch\n",
    "\n",
    "# Empty the cache to free up unused memory\n",
    "torch.cuda.empty_cache()\n",
    "\n",
    "# Force garbage collection to free unused memory\n",
    "import gc\n",
    "gc.collect()"
   ]
  },
  {
   "cell_type": "markdown",
   "metadata": {},
   "source": [
    "# Language Model"
   ]
  },
  {
   "cell_type": "code",
   "execution_count": 3,
   "metadata": {},
   "outputs": [
    {
     "data": {
      "text/plain": [
       "device(type='cpu')"
      ]
     },
     "execution_count": 3,
     "metadata": {},
     "output_type": "execute_result"
    }
   ],
   "source": [
    "device = torch.device(\"cuda\" if torch.cuda.is_available() else \"cpu\")\n",
    "\n",
    "device"
   ]
  },
  {
   "cell_type": "code",
   "execution_count": 34,
   "metadata": {},
   "outputs": [
    {
     "name": "stdout",
     "output_type": "stream",
     "text": [
      "|===========================================================================|\n",
      "|                  PyTorch CUDA memory summary, device ID 0                 |\n",
      "|---------------------------------------------------------------------------|\n",
      "|            CUDA OOMs: 0            |        cudaMalloc retries: 0         |\n",
      "|===========================================================================|\n",
      "|        Metric         | Cur Usage  | Peak Usage | Tot Alloc  | Tot Freed  |\n",
      "|---------------------------------------------------------------------------|\n",
      "| Allocated memory      |   1703 MiB |   1703 MiB |   5718 GiB |   5717 GiB |\n",
      "|       from large pool |   1702 MiB |   1702 MiB |   5677 GiB |   5675 GiB |\n",
      "|       from small pool |      1 MiB |      3 MiB |     41 GiB |     41 GiB |\n",
      "|---------------------------------------------------------------------------|\n",
      "| Active memory         |   1703 MiB |   1703 MiB |   5718 GiB |   5717 GiB |\n",
      "|       from large pool |   1702 MiB |   1702 MiB |   5677 GiB |   5675 GiB |\n",
      "|       from small pool |      1 MiB |      3 MiB |     41 GiB |     41 GiB |\n",
      "|---------------------------------------------------------------------------|\n",
      "| Requested memory      |   1700 MiB |   1700 MiB |   5632 GiB |   5630 GiB |\n",
      "|       from large pool |   1699 MiB |   1699 MiB |   5591 GiB |   5589 GiB |\n",
      "|       from small pool |      1 MiB |      3 MiB |     41 GiB |     41 GiB |\n",
      "|---------------------------------------------------------------------------|\n",
      "| GPU reserved memory   |   1738 MiB |   1738 MiB |   1774 MiB |  36864 KiB |\n",
      "|       from large pool |   1736 MiB |   1736 MiB |   1768 MiB |  32768 KiB |\n",
      "|       from small pool |      2 MiB |      6 MiB |      6 MiB |   4096 KiB |\n",
      "|---------------------------------------------------------------------------|\n",
      "| Non-releasable memory |  34887 KiB |  44597 KiB |   2409 GiB |   2409 GiB |\n",
      "|       from large pool |  34219 KiB |  43945 KiB |   2368 GiB |   2368 GiB |\n",
      "|       from small pool |    668 KiB |   2508 KiB |     41 GiB |     41 GiB |\n",
      "|---------------------------------------------------------------------------|\n",
      "| Allocations           |      36    |      49    |    2346 K  |    2346 K  |\n",
      "|       from large pool |      10    |      13    |     596 K  |     596 K  |\n",
      "|       from small pool |      26    |      41    |    1750 K  |    1750 K  |\n",
      "|---------------------------------------------------------------------------|\n",
      "| Active allocs         |      36    |      49    |    2346 K  |    2346 K  |\n",
      "|       from large pool |      10    |      13    |     596 K  |     596 K  |\n",
      "|       from small pool |      26    |      41    |    1750 K  |    1750 K  |\n",
      "|---------------------------------------------------------------------------|\n",
      "| GPU reserved segments |       9    |       9    |      12    |       3    |\n",
      "|       from large pool |       8    |       8    |       9    |       1    |\n",
      "|       from small pool |       1    |       3    |       3    |       2    |\n",
      "|---------------------------------------------------------------------------|\n",
      "| Non-releasable allocs |       9    |      13    |  718104    |  718095    |\n",
      "|       from large pool |       4    |       5    |  260989    |  260985    |\n",
      "|       from small pool |       5    |      10    |  457115    |  457110    |\n",
      "|---------------------------------------------------------------------------|\n",
      "| Oversize allocations  |       0    |       0    |       0    |       0    |\n",
      "|---------------------------------------------------------------------------|\n",
      "| Oversize GPU segments |       0    |       0    |       0    |       0    |\n",
      "|===========================================================================|\n",
      "\n"
     ]
    }
   ],
   "source": [
    "print(torch.cuda.memory_summary(device=device))"
   ]
  },
  {
   "cell_type": "code",
   "execution_count": 2,
   "metadata": {},
   "outputs": [
    {
     "name": "stderr",
     "output_type": "stream",
     "text": [
      "[nltk_data] Downloading package punkt to\n",
      "[nltk_data]     C:\\Users\\bassel\\AppData\\Roaming\\nltk_data...\n",
      "[nltk_data]   Package punkt is already up-to-date!\n"
     ]
    }
   ],
   "source": [
    "# Setup paths\n",
    "DATA_PATH = r\"G:\\mazen FCDS\\FCDS\\NLP\\Assginment 2\\language model\"\n",
    "LINES_FILE = os.path.join(DATA_PATH, \"movie_lines.txt\")\n",
    "CONVERSATIONS_FILE = os.path.join(DATA_PATH, \"movie_conversations.txt\")\n",
    "\n",
    "# Function to load movie lines\n",
    "def load_lines(file_path):\n",
    "    lines = {}\n",
    "    with open(file_path, \"r\", encoding=\"utf-8\", errors=\"ignore\") as file:\n",
    "        for line in file:\n",
    "            parts = line.strip().split(\" +++$+++ \")\n",
    "            if len(parts) >= 5:\n",
    "                line_id, text = parts[0], parts[4]\n",
    "                lines[line_id] = text\n",
    "    return lines\n",
    "\n",
    "# Function to load movie conversations\n",
    "def load_conversations(file_path, lines):\n",
    "    conversations = []\n",
    "    with open(file_path, \"r\", encoding=\"utf-8\", errors=\"ignore\") as file:\n",
    "        for line in file:\n",
    "            parts = line.strip().split(\" +++$+++ \")\n",
    "            if len(parts) >= 4:\n",
    "                utterance_ids = eval(parts[3])  # Convert string to list\n",
    "                conversations.append([lines[line_id] for line_id in utterance_ids if line_id in lines])\n",
    "    return conversations\n",
    "\n",
    "# Clean text function\n",
    "def clean_text(text):\n",
    "    text = text.lower()\n",
    "    text = re.sub(r\"[^a-zA-Z0-9?.!]+\", \" \", text)  # Remove special characters\n",
    "    text = re.sub(r\"([?.!])\", r\" \\1 \", text)       # Add space around punctuation\n",
    "    text = re.sub(r\"\\s+\", \" \", text).strip()       # Remove extra spaces\n",
    "    return text\n",
    "\n",
    "# Load conversations\n",
    "lines = load_lines(LINES_FILE)\n",
    "conversations = load_conversations(CONVERSATIONS_FILE, lines)\n",
    "\n",
    "# Clean each utterance\n",
    "cleaned_conversations = [[clean_text(utterance) for utterance in conv] for conv in conversations]\n",
    "\n",
    "# Download NLTK tokenization resources\n",
    "nltk.download('punkt')\n",
    "\n",
    "# Tokenize conversations\n",
    "def tokenize(conversations):\n",
    "    return [[word_tokenize(utterance) for utterance in conv] for conv in conversations]\n",
    "\n",
    "# Tokenize cleaned conversations\n",
    "tokenized_conversations = tokenize(cleaned_conversations)"
   ]
  },
  {
   "cell_type": "code",
   "execution_count": 3,
   "metadata": {},
   "outputs": [],
   "source": [
    "# Special tokens\n",
    "PAD_TOKEN = \"<PAD>\"\n",
    "SOS_TOKEN = \"<SOS>\"\n",
    "EOS_TOKEN = \"<EOS>\"\n",
    "UNK_TOKEN = \"<UNK>\"\n",
    "\n",
    "# Build vocabulary function\n",
    "def build_vocab(tokenized_conversations):\n",
    "    counter = Counter()\n",
    "    for conv in tokenized_conversations:\n",
    "        for utterance in conv:\n",
    "            counter.update(utterance)\n",
    "    \n",
    "    # Sort by frequency\n",
    "    sorted_vocab = [word for word, _ in counter.most_common()]\n",
    "    \n",
    "    # Add special tokens\n",
    "    vocab = [PAD_TOKEN, SOS_TOKEN, EOS_TOKEN, UNK_TOKEN] + sorted_vocab\n",
    "    word2idx = {word: idx for idx, word in enumerate(vocab)}\n",
    "    idx2word = {idx: word for word, idx in word2idx.items()}\n",
    "    return word2idx, idx2word\n",
    "\n",
    "# Build vocabulary\n",
    "word2idx, idx2word = build_vocab(tokenized_conversations)\n",
    "\n",
    "# Convert sentences to sequences\n",
    "def sentences_to_sequences(conversations, word2idx):\n",
    "    sequences = []\n",
    "    for conv in conversations:\n",
    "        for utterance in conv:\n",
    "            seq = [word2idx.get(word, word2idx[UNK_TOKEN]) for word in utterance]\n",
    "            sequences.append([word2idx[SOS_TOKEN]] + seq + [word2idx[EOS_TOKEN]])\n",
    "    return sequences\n",
    "\n",
    "# Pad sequences\n",
    "def pad_sequences(sequences, pad_token, vocab_size, max_length=None):\n",
    "    # Find the maximum length of sequences if not provided\n",
    "    if max_length is None:\n",
    "        max_length = max(len(seq) for seq in sequences)\n",
    "\n",
    "    # Pad sequences\n",
    "    padded = []\n",
    "    for seq in sequences:\n",
    "        seq = [min(i, vocab_size - 1) for i in seq[:max_length]] + [pad_token] * max(0, max_length - len(seq))\n",
    "        padded.append(seq)\n",
    "\n",
    "    return padded, max_length\n",
    "\n",
    "sequences = sentences_to_sequences(tokenized_conversations, word2idx)\n",
    "padded_sequences, max_length = pad_sequences(sequences, word2idx[PAD_TOKEN], len(word2idx))\n",
    "\n",
    "# Create input-output pairs\n",
    "def create_input_output_pairs(padded_sequences):\n",
    "    inputs = [seq[:-1] for seq in padded_sequences]\n",
    "    outputs = [seq[1:] for seq in padded_sequences]\n",
    "    return inputs, outputs\n",
    "\n",
    "inputs, outputs = create_input_output_pairs(padded_sequences)\n",
    "\n",
    "# Define a custom collate function\n",
    "def collate_fn(batch):\n",
    "    inputs = [torch.tensor(item[\"input\"], dtype=torch.long) for item in batch]\n",
    "    outputs = [torch.tensor(item[\"output\"], dtype=torch.long) for item in batch]\n",
    "    \n",
    "    # Pad sequences using the modified pad_sequences function\n",
    "    padded_inputs, max_length = pad_sequences([seq.tolist() for seq in inputs], word2idx[\"<PAD>\"], len(word2idx))\n",
    "    padded_outputs, _ = pad_sequences([seq.tolist() for seq in outputs], word2idx[\"<PAD>\"], len(word2idx), max_length)\n",
    "    \n",
    "    # Convert back to tensors\n",
    "    inputs_padded = torch.tensor(padded_inputs, dtype=torch.long)\n",
    "    outputs_padded = torch.tensor(padded_outputs, dtype=torch.long)\n",
    "    \n",
    "    return {\"input\": inputs_padded, \"output\": outputs_padded}\n",
    "\n",
    "# Define a Dataset class\n",
    "class MovieDialogsDataset(Dataset):\n",
    "    def __init__(self, inputs, outputs):\n",
    "        self.inputs = inputs\n",
    "        self.outputs = outputs\n",
    "    \n",
    "    def __len__(self):\n",
    "        return len(self.inputs)\n",
    "    \n",
    "    def __getitem__(self, index):\n",
    "        return {\"input\": self.inputs[index], \"output\": self.outputs[index]}\n",
    "\n",
    "# Create dataset and dataloaders\n",
    "dataset = MovieDialogsDataset(inputs, outputs)\n",
    "batch_size = 2\n",
    "train_loader = DataLoader(dataset, batch_size=batch_size, shuffle=True, collate_fn=collate_fn)\n",
    "test_loader = DataLoader(dataset, batch_size=batch_size, shuffle=False, collate_fn=collate_fn)\n"
   ]
  },
  {
   "cell_type": "code",
   "execution_count": 4,
   "metadata": {},
   "outputs": [],
   "source": [
    "# Define the RNN model\n",
    "class RNNModel(torch.nn.Module):\n",
    "    def __init__(self, vocab_size, embedding_dim, hidden_dim, output_dim):\n",
    "        super(RNNModel, self).__init__()\n",
    "        self.embedding = torch.nn.Embedding(vocab_size, embedding_dim)\n",
    "        self.rnn = torch.nn.RNN(embedding_dim, hidden_dim)\n",
    "        self.fc = torch.nn.Linear(hidden_dim, output_dim)\n",
    "    \n",
    "    def forward(self, x):\n",
    "        embedded = self.embedding(x)\n",
    "        output, hidden = self.rnn(embedded)\n",
    "        output = self.fc(output)\n",
    "        return output\n",
    "\n",
    "# Initialize model, optimizer, and loss function\n",
    "vocab_size = len(word2idx)\n",
    "embedding_dim = 300\n",
    "hidden_dim = 512\n",
    "output_dim = vocab_size\n",
    "model = RNNModel(vocab_size, embedding_dim, hidden_dim, output_dim)\n",
    "optimizer = torch.optim.Adam(model.parameters())\n",
    "criterion = torch.nn.CrossEntropyLoss()"
   ]
  },
  {
   "cell_type": "code",
   "execution_count": 5,
   "metadata": {},
   "outputs": [],
   "source": [
    "# Training function\n",
    "def train(model, train_loader, epochs, optimizer, criterion, device):\n",
    "    History = {'Accuracy': [], 'Loss': []}\n",
    "    model = model.to(device)\n",
    "    \n",
    "    for epoch in range(epochs):\n",
    "        model.train()\n",
    "        total_loss = 0\n",
    "        total_tokens = 0\n",
    "        correct_predictions = 0\n",
    "        \n",
    "        for batch in tqdm(train_loader, desc=f'Epoch {epoch+1}/{epochs}'):\n",
    "            X_batch = batch[\"input\"].to(device)\n",
    "            y_batch = batch[\"output\"].to(device)\n",
    "            optimizer.zero_grad()\n",
    "            predictions = model(X_batch)\n",
    "            predictions = predictions.view(-1, vocab_size)\n",
    "            y_batch = y_batch.view(-1)\n",
    "            loss = criterion(predictions, y_batch)\n",
    "            loss.backward()\n",
    "            optimizer.step()\n",
    "            total_loss += loss.item()\n",
    "            total_tokens += (y_batch != word2idx[\"<PAD>\"]).sum().item()\n",
    "            predicted_labels = predictions.argmax(dim=1)\n",
    "            correct_predictions += (predicted_labels == y_batch).sum().item()\n",
    "        \n",
    "        accuracy = correct_predictions / total_tokens * 100\n",
    "        print(f\"Epoch {epoch+1}/{epochs}, Loss: {total_loss/len(train_loader):.4f}, Accuracy: {accuracy:.2f}%\")\n",
    "        History['Loss'].append(total_loss / len(train_loader))\n",
    "        History['Accuracy'].append(accuracy)\n",
    "    \n",
    "    return model, History\n",
    "\n",
    "# Evaluate function\n",
    "def evaluate(model, history, test_loader, criterion, device):\n",
    "    model.eval()\n",
    "    all_preds = []\n",
    "    all_labels = []\n",
    "    total_loss = 0\n",
    "    total_tokens = 0\n",
    "    \n",
    "    with torch.no_grad():\n",
    "        for batch in test_loader:\n",
    "            X_batch = batch[\"input\"].to(device)\n",
    "            y_batch = batch[\"output\"].to(device)\n",
    "            predictions = model(X_batch).view(-1, vocab_size)\n",
    "            y_batch = y_batch.view(-1)\n",
    "            total_loss += criterion(predictions, y_batch).item()\n",
    "            total_tokens += (y_batch != word2idx[\"<PAD>\"]).sum().item()\n",
    "            predicted_labels = predictions.argmax(dim=1)\n",
    "            all_preds.extend(predicted_labels.cpu().numpy())\n",
    "            all_labels.extend(y_batch.cpu().numpy())\n",
    "    \n",
    "    accuracy = accuracy_score(all_labels, all_preds)\n",
    "    precision = precision_score(all_labels, all_preds, average='weighted', zero_division=0)\n",
    "    recall = recall_score(all_labels, all_preds, average='weighted', zero_division=0)\n",
    "    f1 = f1_score(all_labels, all_preds, average='weighted', zero_division=0)\n",
    "    \n",
    "    print(f\"Test Loss: {total_loss / len(test_loader):.4f}\")\n",
    "    print(f\"Accuracy: {accuracy * 100:.2f}%\")\n",
    "    print(f\"Precision: {precision * 100:.2f}%\")\n",
    "    print(f\"Recall: {recall * 100:.2f}%\")\n",
    "    print(f\"F1 Score: {f1 * 100:.2f}%\")\n",
    "    history['Loss'].append(total_loss / len(test_loader))\n",
    "    history['Accuracy'].append(accuracy * 100)\n",
    "    \n",
    "    return history\n"
   ]
  },
  {
   "cell_type": "code",
   "execution_count": 6,
   "metadata": {},
   "outputs": [
    {
     "name": "stderr",
     "output_type": "stream",
     "text": [
      "Epoch 1/10:   0%|          | 158/152223 [04:27<71:33:09,  1.69s/it]\n"
     ]
    },
    {
     "ename": "KeyboardInterrupt",
     "evalue": "",
     "output_type": "error",
     "traceback": [
      "\u001b[1;31m---------------------------------------------------------------------------\u001b[0m",
      "\u001b[1;31mKeyboardInterrupt\u001b[0m                         Traceback (most recent call last)",
      "Cell \u001b[1;32mIn[6], line 4\u001b[0m\n\u001b[0;32m      2\u001b[0m epochs \u001b[38;5;241m=\u001b[39m \u001b[38;5;241m10\u001b[39m\n\u001b[0;32m      3\u001b[0m device \u001b[38;5;241m=\u001b[39m torch\u001b[38;5;241m.\u001b[39mdevice(\u001b[38;5;124m'\u001b[39m\u001b[38;5;124mcuda\u001b[39m\u001b[38;5;124m'\u001b[39m \u001b[38;5;28;01mif\u001b[39;00m torch\u001b[38;5;241m.\u001b[39mcuda\u001b[38;5;241m.\u001b[39mis_available() \u001b[38;5;28;01melse\u001b[39;00m \u001b[38;5;124m'\u001b[39m\u001b[38;5;124mcpu\u001b[39m\u001b[38;5;124m'\u001b[39m)\n\u001b[1;32m----> 4\u001b[0m model, train_history \u001b[38;5;241m=\u001b[39m \u001b[43mtrain\u001b[49m\u001b[43m(\u001b[49m\u001b[43mmodel\u001b[49m\u001b[43m,\u001b[49m\u001b[43m \u001b[49m\u001b[43mtrain_loader\u001b[49m\u001b[43m,\u001b[49m\u001b[43m \u001b[49m\u001b[43mepochs\u001b[49m\u001b[43m,\u001b[49m\u001b[43m \u001b[49m\u001b[43moptimizer\u001b[49m\u001b[43m,\u001b[49m\u001b[43m \u001b[49m\u001b[43mcriterion\u001b[49m\u001b[43m,\u001b[49m\u001b[43m \u001b[49m\u001b[43mdevice\u001b[49m\u001b[43m)\u001b[49m\n",
      "Cell \u001b[1;32mIn[5], line 24\u001b[0m, in \u001b[0;36mtrain\u001b[1;34m(model, train_loader, epochs, optimizer, criterion, device)\u001b[0m\n\u001b[0;32m     22\u001b[0m     total_loss \u001b[38;5;241m+\u001b[39m\u001b[38;5;241m=\u001b[39m loss\u001b[38;5;241m.\u001b[39mitem()\n\u001b[0;32m     23\u001b[0m     total_tokens \u001b[38;5;241m+\u001b[39m\u001b[38;5;241m=\u001b[39m (y_batch \u001b[38;5;241m!=\u001b[39m word2idx[\u001b[38;5;124m\"\u001b[39m\u001b[38;5;124m<PAD>\u001b[39m\u001b[38;5;124m\"\u001b[39m])\u001b[38;5;241m.\u001b[39msum()\u001b[38;5;241m.\u001b[39mitem()\n\u001b[1;32m---> 24\u001b[0m     predicted_labels \u001b[38;5;241m=\u001b[39m \u001b[43mpredictions\u001b[49m\u001b[38;5;241;43m.\u001b[39;49m\u001b[43margmax\u001b[49m\u001b[43m(\u001b[49m\u001b[43mdim\u001b[49m\u001b[38;5;241;43m=\u001b[39;49m\u001b[38;5;241;43m1\u001b[39;49m\u001b[43m)\u001b[49m\n\u001b[0;32m     25\u001b[0m     correct_predictions \u001b[38;5;241m+\u001b[39m\u001b[38;5;241m=\u001b[39m (predicted_labels \u001b[38;5;241m==\u001b[39m y_batch)\u001b[38;5;241m.\u001b[39msum()\u001b[38;5;241m.\u001b[39mitem()\n\u001b[0;32m     27\u001b[0m accuracy \u001b[38;5;241m=\u001b[39m correct_predictions \u001b[38;5;241m/\u001b[39m total_tokens \u001b[38;5;241m*\u001b[39m \u001b[38;5;241m100\u001b[39m\n",
      "\u001b[1;31mKeyboardInterrupt\u001b[0m: "
     ]
    }
   ],
   "source": [
    "# Training\n",
    "epochs = 10\n",
    "device = torch.device('cuda' if torch.cuda.is_available() else 'cpu')\n",
    "model, train_history = train(model, train_loader, epochs, optimizer, criterion, device)"
   ]
  },
  {
   "cell_type": "code",
   "execution_count": 10,
   "metadata": {},
   "outputs": [
    {
     "ename": "NameError",
     "evalue": "name 'train_history' is not defined",
     "output_type": "error",
     "traceback": [
      "\u001b[1;31m---------------------------------------------------------------------------\u001b[0m",
      "\u001b[1;31mNameError\u001b[0m                                 Traceback (most recent call last)",
      "Cell \u001b[1;32mIn[10], line 2\u001b[0m\n\u001b[0;32m      1\u001b[0m \u001b[38;5;66;03m# Evaluation\u001b[39;00m\n\u001b[1;32m----> 2\u001b[0m test_history \u001b[38;5;241m=\u001b[39m evaluate(model, \u001b[43mtrain_history\u001b[49m, test_loader, criterion, device)\n\u001b[0;32m      4\u001b[0m \u001b[38;5;66;03m# Plot training history\u001b[39;00m\n\u001b[0;32m      5\u001b[0m plt\u001b[38;5;241m.\u001b[39mfigure(figsize\u001b[38;5;241m=\u001b[39m(\u001b[38;5;241m12\u001b[39m, \u001b[38;5;241m4\u001b[39m))\n",
      "\u001b[1;31mNameError\u001b[0m: name 'train_history' is not defined"
     ]
    }
   ],
   "source": [
    "# Evaluation\n",
    "test_history = evaluate(model, train_history, test_loader, criterion, device)\n",
    "\n",
    "# Plot training history\n",
    "plt.figure(figsize=(12, 4))\n",
    "plt.subplot(1, 2, 1)\n",
    "plt.plot(test_history['Accuracy'], label='Accuracy')\n",
    "plt.plot(test_history['Loss'], label='Loss')\n",
    "plt.legend()\n",
    "plt.title('Training History')\n",
    "plt.show()"
   ]
  }
 ],
 "metadata": {
  "kernelspec": {
   "display_name": "Python 3",
   "language": "python",
   "name": "python3"
  },
  "language_info": {
   "codemirror_mode": {
    "name": "ipython",
    "version": 3
   },
   "file_extension": ".py",
   "mimetype": "text/x-python",
   "name": "python",
   "nbconvert_exporter": "python",
   "pygments_lexer": "ipython3",
   "version": "3.9.13"
  }
 },
 "nbformat": 4,
 "nbformat_minor": 2
}
